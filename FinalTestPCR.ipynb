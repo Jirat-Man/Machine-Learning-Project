{
 "cells": [
  {
   "cell_type": "code",
   "execution_count": 1,
   "id": "17c6cbfc",
   "metadata": {},
   "outputs": [],
   "source": [
    "import numpy as np\n",
    "import pandas as pd\n",
    "import matplotlib.pyplot as plt\n",
    "from sklearn.linear_model import LogisticRegression\n",
    "import pickle"
   ]
  },
  {
   "cell_type": "markdown",
   "id": "24a1221a",
   "metadata": {},
   "source": [
    "# Get Model"
   ]
  },
  {
   "cell_type": "code",
   "execution_count": 2,
   "id": "bda0376f",
   "metadata": {},
   "outputs": [],
   "source": [
    "with open(\"Pickle_PCR_Model.pkl\" , 'rb') as file:  \n",
    "    model= pickle.load(file)\n",
    "\n",
    "with open(\"Feature_Selected_PCR\" , 'rb') as file:  \n",
    "    feature = pickle.load(file)"
   ]
  },
  {
   "cell_type": "code",
   "execution_count": 3,
   "id": "18b013b9",
   "metadata": {},
   "outputs": [
    {
     "data": {
      "text/plain": [
       "Index(['ER', 'PgR', 'HER2', 'LNStatus',\n",
       "       'original_gldm_LargeDependenceEmphasis',\n",
       "       'original_gldm_LargeDependenceHighGrayLevelEmphasis',\n",
       "       'original_glrlm_LongRunLowGrayLevelEmphasis',\n",
       "       'original_glrlm_RunEntropy', 'original_glrlm_RunPercentage'],\n",
       "      dtype='object')"
      ]
     },
     "execution_count": 3,
     "metadata": {},
     "output_type": "execute_result"
    }
   ],
   "source": [
    "feature"
   ]
  },
  {
   "cell_type": "markdown",
   "id": "955165d3",
   "metadata": {},
   "source": [
    "# Load Data"
   ]
  },
  {
   "cell_type": "code",
   "execution_count": 4,
   "id": "b78d641a",
   "metadata": {},
   "outputs": [],
   "source": [
    "#load training data\n",
    "df = pd.read_excel(\"testDatasetExample.xls\", index_col = False)"
   ]
  },
  {
   "cell_type": "markdown",
   "id": "21867973",
   "metadata": {},
   "source": [
    "# Prepare Data for Prediction"
   ]
  },
  {
   "cell_type": "code",
   "execution_count": 5,
   "id": "6758356d",
   "metadata": {},
   "outputs": [],
   "source": [
    "from sklearn.preprocessing import StandardScaler"
   ]
  },
  {
   "cell_type": "code",
   "execution_count": 6,
   "id": "5968cc57",
   "metadata": {},
   "outputs": [],
   "source": [
    "X_test = df[feature]"
   ]
  },
  {
   "cell_type": "code",
   "execution_count": 7,
   "id": "250d3b96",
   "metadata": {},
   "outputs": [],
   "source": [
    "X_test = pd.DataFrame(StandardScaler().fit_transform(X_test.values), columns=X_test.columns, index=X_test.index)"
   ]
  },
  {
   "cell_type": "code",
   "execution_count": 8,
   "id": "73ce2499",
   "metadata": {},
   "outputs": [
    {
     "data": {
      "text/html": [
       "<div>\n",
       "<style scoped>\n",
       "    .dataframe tbody tr th:only-of-type {\n",
       "        vertical-align: middle;\n",
       "    }\n",
       "\n",
       "    .dataframe tbody tr th {\n",
       "        vertical-align: top;\n",
       "    }\n",
       "\n",
       "    .dataframe thead th {\n",
       "        text-align: right;\n",
       "    }\n",
       "</style>\n",
       "<table border=\"1\" class=\"dataframe\">\n",
       "  <thead>\n",
       "    <tr style=\"text-align: right;\">\n",
       "      <th></th>\n",
       "      <th>ER</th>\n",
       "      <th>PgR</th>\n",
       "      <th>HER2</th>\n",
       "      <th>LNStatus</th>\n",
       "      <th>original_gldm_LargeDependenceEmphasis</th>\n",
       "      <th>original_gldm_LargeDependenceHighGrayLevelEmphasis</th>\n",
       "      <th>original_glrlm_LongRunLowGrayLevelEmphasis</th>\n",
       "      <th>original_glrlm_RunEntropy</th>\n",
       "      <th>original_glrlm_RunPercentage</th>\n",
       "    </tr>\n",
       "  </thead>\n",
       "  <tbody>\n",
       "    <tr>\n",
       "      <th>0</th>\n",
       "      <td>0.0</td>\n",
       "      <td>0.0</td>\n",
       "      <td>-0.707107</td>\n",
       "      <td>-0.707107</td>\n",
       "      <td>0.748851</td>\n",
       "      <td>0.748317</td>\n",
       "      <td>0.704681</td>\n",
       "      <td>0.228551</td>\n",
       "      <td>-0.676890</td>\n",
       "    </tr>\n",
       "    <tr>\n",
       "      <th>1</th>\n",
       "      <td>0.0</td>\n",
       "      <td>0.0</td>\n",
       "      <td>1.414214</td>\n",
       "      <td>-0.707107</td>\n",
       "      <td>-1.413375</td>\n",
       "      <td>-1.413397</td>\n",
       "      <td>-1.414211</td>\n",
       "      <td>-1.322921</td>\n",
       "      <td>1.413789</td>\n",
       "    </tr>\n",
       "    <tr>\n",
       "      <th>2</th>\n",
       "      <td>0.0</td>\n",
       "      <td>0.0</td>\n",
       "      <td>-0.707107</td>\n",
       "      <td>1.414214</td>\n",
       "      <td>0.664525</td>\n",
       "      <td>0.665080</td>\n",
       "      <td>0.709530</td>\n",
       "      <td>1.094370</td>\n",
       "      <td>-0.736899</td>\n",
       "    </tr>\n",
       "  </tbody>\n",
       "</table>\n",
       "</div>"
      ],
      "text/plain": [
       "    ER  PgR      HER2  LNStatus  original_gldm_LargeDependenceEmphasis  \\\n",
       "0  0.0  0.0 -0.707107 -0.707107                               0.748851   \n",
       "1  0.0  0.0  1.414214 -0.707107                              -1.413375   \n",
       "2  0.0  0.0 -0.707107  1.414214                               0.664525   \n",
       "\n",
       "   original_gldm_LargeDependenceHighGrayLevelEmphasis  \\\n",
       "0                                           0.748317    \n",
       "1                                          -1.413397    \n",
       "2                                           0.665080    \n",
       "\n",
       "   original_glrlm_LongRunLowGrayLevelEmphasis  original_glrlm_RunEntropy  \\\n",
       "0                                    0.704681                   0.228551   \n",
       "1                                   -1.414211                  -1.322921   \n",
       "2                                    0.709530                   1.094370   \n",
       "\n",
       "   original_glrlm_RunPercentage  \n",
       "0                     -0.676890  \n",
       "1                      1.413789  \n",
       "2                     -0.736899  "
      ]
     },
     "execution_count": 8,
     "metadata": {},
     "output_type": "execute_result"
    }
   ],
   "source": [
    "X_test"
   ]
  },
  {
   "cell_type": "markdown",
   "id": "17adc7fc",
   "metadata": {},
   "source": [
    "# Prediction"
   ]
  },
  {
   "cell_type": "code",
   "execution_count": 9,
   "id": "5ff8d275",
   "metadata": {},
   "outputs": [],
   "source": [
    "result = model.predict(X_test)"
   ]
  },
  {
   "cell_type": "code",
   "execution_count": 10,
   "id": "a16b71d7",
   "metadata": {},
   "outputs": [],
   "source": [
    "df.insert(1, 'pCR (outcome)', result)"
   ]
  },
  {
   "cell_type": "code",
   "execution_count": 11,
   "id": "b1048732",
   "metadata": {},
   "outputs": [
    {
     "data": {
      "text/plain": [
       "array([0., 0., 0.])"
      ]
     },
     "execution_count": 11,
     "metadata": {},
     "output_type": "execute_result"
    }
   ],
   "source": [
    "result"
   ]
  },
  {
   "cell_type": "markdown",
   "id": "78a1c5d1",
   "metadata": {},
   "source": [
    "# Convert to Excel"
   ]
  },
  {
   "cell_type": "code",
   "execution_count": 12,
   "id": "ad1e6b15",
   "metadata": {},
   "outputs": [
    {
     "name": "stderr",
     "output_type": "stream",
     "text": [
      "C:\\Users\\Ga401\\AppData\\Local\\Temp\\ipykernel_11020\\2198082349.py:1: FutureWarning: As the xlwt package is no longer maintained, the xlwt engine will be removed in a future version of pandas. This is the only engine in pandas that supports writing in the xls format. Install openpyxl and write to an xlsx file instead. You can set the option io.excel.xls.writer to 'xlwt' to silence this warning. While this option is deprecated and will also raise a warning, it can be globally set and the warning suppressed.\n",
      "  df.to_excel('FinalTestPCR.xls', sheet_name='PCR prediction')\n"
     ]
    }
   ],
   "source": [
    "df.to_excel('FinalTestPCR.xls', sheet_name='PCR prediction')"
   ]
  }
 ],
 "metadata": {
  "kernelspec": {
   "display_name": "Python 3 (ipykernel)",
   "language": "python",
   "name": "python3"
  },
  "language_info": {
   "codemirror_mode": {
    "name": "ipython",
    "version": 3
   },
   "file_extension": ".py",
   "mimetype": "text/x-python",
   "name": "python",
   "nbconvert_exporter": "python",
   "pygments_lexer": "ipython3",
   "version": "3.9.12"
  }
 },
 "nbformat": 4,
 "nbformat_minor": 5
}
