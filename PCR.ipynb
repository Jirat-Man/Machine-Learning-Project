{
 "cells": [
  {
   "cell_type": "code",
   "execution_count": 11,
   "id": "0f1355e4",
   "metadata": {},
   "outputs": [],
   "source": [
    "import pandas as pd\n",
    "from sklearn.svm import SVC\n",
    "import numpy as np"
   ]
  },
  {
   "cell_type": "code",
   "execution_count": 2,
   "id": "5f9c3653",
   "metadata": {},
   "outputs": [],
   "source": [
    "df = pd.read_excel(\"./trainDataset.xls\")"
   ]
  },
  {
   "cell_type": "code",
   "execution_count": 44,
   "id": "5ad8cd62",
   "metadata": {},
   "outputs": [
    {
     "name": "stdout",
     "output_type": "stream",
     "text": [
      "Number of records 400\n",
      "400\n",
      "390\n"
     ]
    }
   ],
   "source": [
    "# Loading and preprocessing\n",
    "\n",
    "print(\"Number of records {}\".format(len(df)))\n",
    "#print(df.head())\n",
    "\n",
    "# df.isnull().sum().max()\n",
    "# df.columns\n",
    "\n",
    "#for idx, row in df.iterrows():\n",
    "\n",
    "print(len(df))\n",
    "df = df[~df.eq(999).any(1)]\n",
    "print(len(df))\n",
    "\n",
    "    "
   ]
  },
  {
   "cell_type": "code",
   "execution_count": 45,
   "id": "38c092da",
   "metadata": {},
   "outputs": [],
   "source": [
    "y_t = np.array(df['pCR (outcome)'])\n",
    "x_t = np.array(df[['Age', 'ER', 'PgR', 'HER2']])\n",
    "\n",
    "from sklearn.preprocessing import MinMaxScaler\n",
    "from sklearn.model_selection import train_test_split\n",
    "scaler = MinMaxScaler()\n",
    "x_t = scaler.fit_transform(x_t)\n",
    "    \n",
    "x_train, x_test, y_train, y_test = train_test_split(x_t, y_t, test_size=.2, random_state=42)\n"
   ]
  },
  {
   "cell_type": "code",
   "execution_count": 46,
   "id": "22d9c810",
   "metadata": {},
   "outputs": [
    {
     "name": "stdout",
     "output_type": "stream",
     "text": [
      "Training score 0.7724358974358975\n",
      "Testing score 0.7948717948717948\n"
     ]
    }
   ],
   "source": [
    "\n",
    "\n",
    "model = SVC(kernel='rbf', C=100).fit(x_train, y_train)\n",
    "scoretrain = model.score(x_train, y_train)\n",
    "scoretest = model.score(x_test, y_test)\n",
    "\n",
    "print(\"Training score {}\".format(scoretrain))\n",
    "print(\"Testing score {}\".format(scoretest))"
   ]
  },
  {
   "cell_type": "code",
   "execution_count": 47,
   "id": "97a36432",
   "metadata": {},
   "outputs": [
    {
     "data": {
      "text/plain": [
       "array([0, 0], dtype=int64)"
      ]
     },
     "execution_count": 47,
     "metadata": {},
     "output_type": "execute_result"
    }
   ],
   "source": [
    "dftest = pd.read_excel(\"./testDatasetExample.xls\")\n",
    "dftest = dftest[~dftest.eq(999).any(1)]\n",
    "x_t = np.array(dftest[['Age', 'ER', 'PgR', 'HER2']])\n",
    "scaler = MinMaxScaler()\n",
    "x_t = scaler.fit_transform(x_t)\n",
    "\n",
    "\n",
    "\n",
    "\n",
    "model.predict(x_t)\n"
   ]
  },
  {
   "cell_type": "code",
   "execution_count": null,
   "id": "4f171465",
   "metadata": {},
   "outputs": [],
   "source": []
  }
 ],
 "metadata": {
  "kernelspec": {
   "display_name": "Python 3",
   "language": "python",
   "name": "python3"
  },
  "language_info": {
   "codemirror_mode": {
    "name": "ipython",
    "version": 3
   },
   "file_extension": ".py",
   "mimetype": "text/x-python",
   "name": "python",
   "nbconvert_exporter": "python",
   "pygments_lexer": "ipython3",
   "version": "3.8.8"
  }
 },
 "nbformat": 4,
 "nbformat_minor": 5
}
