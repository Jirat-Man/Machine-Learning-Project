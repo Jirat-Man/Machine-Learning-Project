{
 "cells": [
  {
   "cell_type": "code",
   "execution_count": 1,
   "id": "9beb40ff",
   "metadata": {},
   "outputs": [],
   "source": [
    "import numpy as np\n",
    "import pandas as pd\n",
    "import matplotlib.pyplot as plt\n",
    "from sklearn.linear_model import Lasso\n",
    "import pickle\n",
    "import openpyxl\n",
    "import xlwt"
   ]
  },
  {
   "cell_type": "markdown",
   "id": "f2ead218",
   "metadata": {},
   "source": [
    "# Load Model"
   ]
  },
  {
   "cell_type": "code",
   "execution_count": 2,
   "id": "285ee5d2",
   "metadata": {},
   "outputs": [],
   "source": [
    "with open(\"Pickle_RFS_Model.pkl\" , 'rb') as file:  \n",
    "    model= pickle.load(file)\n",
    "\n",
    "with open(\"Feature_Selected_RFS\" , 'rb') as file2:  \n",
    "    feature = pickle.load(file2)"
   ]
  },
  {
   "cell_type": "markdown",
   "id": "98fb1065",
   "metadata": {},
   "source": [
    "# Load Data"
   ]
  },
  {
   "cell_type": "code",
   "execution_count": 3,
   "id": "ba8b4ba8",
   "metadata": {},
   "outputs": [],
   "source": [
    "#load training data\n",
    "df = pd.read_excel(\"testDatasetExample.xls\", index_col = False)"
   ]
  },
  {
   "cell_type": "markdown",
   "id": "f7f84eee",
   "metadata": {},
   "source": [
    "# Prepare Data for Prediction"
   ]
  },
  {
   "cell_type": "code",
   "execution_count": 4,
   "id": "eb41b199",
   "metadata": {},
   "outputs": [],
   "source": [
    "from sklearn.preprocessing import StandardScaler"
   ]
  },
  {
   "cell_type": "code",
   "execution_count": 5,
   "id": "cb781726",
   "metadata": {},
   "outputs": [],
   "source": [
    "X_test = df[feature]"
   ]
  },
  {
   "cell_type": "code",
   "execution_count": 6,
   "id": "72f53f7d",
   "metadata": {},
   "outputs": [],
   "source": [
    "X_test = pd.DataFrame(StandardScaler().fit_transform(X_test.values), columns=X_test.columns, index=X_test.index)"
   ]
  },
  {
   "cell_type": "markdown",
   "id": "48a06fb5",
   "metadata": {},
   "source": [
    "# Prediction"
   ]
  },
  {
   "cell_type": "code",
   "execution_count": 7,
   "id": "76a0d8a8",
   "metadata": {},
   "outputs": [],
   "source": [
    "result = model.predict(X_test)"
   ]
  },
  {
   "cell_type": "code",
   "execution_count": 8,
   "id": "ab259528",
   "metadata": {},
   "outputs": [],
   "source": [
    "df.insert(1, 'RelapseFreeSurvival (outcome)', result)"
   ]
  },
  {
   "cell_type": "code",
   "execution_count": 9,
   "id": "1586f9d3",
   "metadata": {
    "scrolled": true
   },
   "outputs": [
    {
     "data": {
      "text/plain": [
       "(3, 119)"
      ]
     },
     "execution_count": 9,
     "metadata": {},
     "output_type": "execute_result"
    }
   ],
   "source": [
    "df.shape"
   ]
  },
  {
   "cell_type": "markdown",
   "id": "d940a0fb",
   "metadata": {},
   "source": [
    "# Convert to Excel"
   ]
  },
  {
   "cell_type": "code",
   "execution_count": 10,
   "id": "74605ad6",
   "metadata": {},
   "outputs": [
    {
     "name": "stderr",
     "output_type": "stream",
     "text": [
      "C:\\Users\\Ga401\\AppData\\Local\\Temp\\ipykernel_53992\\469449715.py:1: FutureWarning: As the xlwt package is no longer maintained, the xlwt engine will be removed in a future version of pandas. This is the only engine in pandas that supports writing in the xls format. Install openpyxl and write to an xlsx file instead. You can set the option io.excel.xls.writer to 'xlwt' to silence this warning. While this option is deprecated and will also raise a warning, it can be globally set and the warning suppressed.\n",
      "  df.to_excel('FinalTestRFS.xls', sheet_name='RFS prediction')\n"
     ]
    }
   ],
   "source": [
    "df.to_excel('FinalTestRFS.xls', sheet_name='RFS prediction')\n"
   ]
  },
  {
   "cell_type": "code",
   "execution_count": null,
   "id": "7620b81c",
   "metadata": {},
   "outputs": [],
   "source": []
  }
 ],
 "metadata": {
  "kernelspec": {
   "display_name": "Python 3 (ipykernel)",
   "language": "python",
   "name": "python3"
  },
  "language_info": {
   "codemirror_mode": {
    "name": "ipython",
    "version": 3
   },
   "file_extension": ".py",
   "mimetype": "text/x-python",
   "name": "python",
   "nbconvert_exporter": "python",
   "pygments_lexer": "ipython3",
   "version": "3.9.12"
  }
 },
 "nbformat": 4,
 "nbformat_minor": 5
}
